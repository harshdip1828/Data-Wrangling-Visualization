{
  "nbformat": 4,
  "nbformat_minor": 0,
  "metadata": {
    "colab": {
      "provenance": []
    },
    "kernelspec": {
      "name": "python3",
      "display_name": "Python 3"
    },
    "language_info": {
      "name": "python"
    }
  },
  "cells": [
    {
      "cell_type": "markdown",
      "source": [
        "1. Create a null vector of size 10 but the fifth value which is 1"
      ],
      "metadata": {
        "id": "rVrqFouoe3OY"
      }
    },
    {
      "cell_type": "code",
      "execution_count": 1,
      "metadata": {
        "colab": {
          "base_uri": "https://localhost:8080/"
        },
        "id": "M8zyWjVUeyGe",
        "outputId": "890822ac-b611-4acb-dfd0-a4ca6dee2601"
      },
      "outputs": [
        {
          "output_type": "stream",
          "name": "stdout",
          "text": [
            "[0. 0. 0. 0. 1. 0. 0. 0. 0. 0.]\n"
          ]
        }
      ],
      "source": [
        "import numpy as np\n",
        "\n",
        "null_vector = np.zeros(10)\n",
        "\n",
        "null_vector[4] = 1\n",
        "\n",
        "print(null_vector)\n"
      ]
    },
    {
      "cell_type": "markdown",
      "source": [
        "2.Create a vector with values ranging from 10 to 49"
      ],
      "metadata": {
        "id": "sQq5uy8zfHgy"
      }
    },
    {
      "cell_type": "code",
      "source": [
        "import numpy as np\n",
        "\n",
        "vector = np.arange(10, 50)\n",
        "\n",
        "print(vector)\n"
      ],
      "metadata": {
        "colab": {
          "base_uri": "https://localhost:8080/"
        },
        "id": "VdzOVi-se6Ac",
        "outputId": "3acb8909-b0a6-4b84-f685-e3ac1303810e"
      },
      "execution_count": 2,
      "outputs": [
        {
          "output_type": "stream",
          "name": "stdout",
          "text": [
            "[10 11 12 13 14 15 16 17 18 19 20 21 22 23 24 25 26 27 28 29 30 31 32 33\n",
            " 34 35 36 37 38 39 40 41 42 43 44 45 46 47 48 49]\n"
          ]
        }
      ]
    },
    {
      "cell_type": "markdown",
      "source": [
        " 3.Create a 3x3 matrix with values ranging from 0 to 8"
      ],
      "metadata": {
        "id": "MipfN27_fR99"
      }
    },
    {
      "cell_type": "code",
      "source": [
        "import numpy as np\n",
        "matrix = np.arange(9).reshape(3, 3)\n",
        "print(matrix)\n"
      ],
      "metadata": {
        "colab": {
          "base_uri": "https://localhost:8080/"
        },
        "id": "-YvZobO5fNmP",
        "outputId": "8889f7e0-e9cd-4831-c4f0-a8501973b311"
      },
      "execution_count": 3,
      "outputs": [
        {
          "output_type": "stream",
          "name": "stdout",
          "text": [
            "[[0 1 2]\n",
            " [3 4 5]\n",
            " [6 7 8]]\n"
          ]
        }
      ]
    },
    {
      "cell_type": "markdown",
      "source": [
        "4. Find indices of non-zero elements from [1,2,0,0,4,0]"
      ],
      "metadata": {
        "id": "-bKhxMtJfdmX"
      }
    },
    {
      "cell_type": "code",
      "source": [
        "import numpy as np\n",
        "arr = np.array([1, 2, 0, 0, 4, 0])\n",
        "non_zero_indices = np.nonzero(arr)\n",
        "print(non_zero_indices)\n"
      ],
      "metadata": {
        "colab": {
          "base_uri": "https://localhost:8080/"
        },
        "id": "Ib0Mln4KfbIW",
        "outputId": "ca2a2838-b864-4443-fabe-52a2d494d1d0"
      },
      "execution_count": 4,
      "outputs": [
        {
          "output_type": "stream",
          "name": "stdout",
          "text": [
            "(array([0, 1, 4]),)\n"
          ]
        }
      ]
    },
    {
      "cell_type": "markdown",
      "source": [
        "5.Create a 10x10 array with random values and find the minimum and maximum values"
      ],
      "metadata": {
        "id": "F9d7Dbk8ft_D"
      }
    },
    {
      "cell_type": "code",
      "source": [
        "import numpy as np\n",
        "random_array = np.random.rand(10, 10)\n",
        "minimum_value = random_array.min()\n",
        "maximum_value = random_array.max()\n",
        "print(random_array)\n",
        "print(f\"Minimum Value: {minimum_value}\")\n",
        "print(f\"Maximum Value: {maximum_value}\")\n"
      ],
      "metadata": {
        "colab": {
          "base_uri": "https://localhost:8080/"
        },
        "id": "Q50I4ZUEfyhL",
        "outputId": "777b6188-c039-40bc-c5df-4eb55bcb648f"
      },
      "execution_count": 9,
      "outputs": [
        {
          "output_type": "stream",
          "name": "stdout",
          "text": [
            "[[0.38560257 0.09956    0.01056996 0.43281891 0.18761287 0.27911095\n",
            "  0.19760897 0.94205819 0.29562627 0.18581867]\n",
            " [0.65068269 0.99487314 0.44763566 0.25488467 0.56431484 0.60128714\n",
            "  0.96642675 0.43309916 0.84499576 0.54351994]\n",
            " [0.21205803 0.9465078  0.39897459 0.31915028 0.08943237 0.63136093\n",
            "  0.12298426 0.41661697 0.10339161 0.83763448]\n",
            " [0.41764618 0.06408743 0.97374251 0.9094993  0.52571424 0.2617122\n",
            "  0.11620618 0.95489671 0.75872542 0.73355741]\n",
            " [0.09623282 0.86954129 0.62259427 0.86625548 0.02772302 0.45496287\n",
            "  0.04964763 0.19202214 0.91401287 0.18167027]\n",
            " [0.85725167 0.64793171 0.79163675 0.21902366 0.83748663 0.03944326\n",
            "  0.67535195 0.68377436 0.88138166 0.08934084]\n",
            " [0.24241644 0.71193599 0.66572939 0.94195094 0.44167709 0.3981714\n",
            "  0.88156599 0.83222479 0.05153258 0.74382211]\n",
            " [0.50708856 0.6522109  0.30146178 0.34949847 0.72143032 0.83727367\n",
            "  0.33503013 0.81193267 0.62095819 0.10307506]\n",
            " [0.37320721 0.59543295 0.62517286 0.33746235 0.94171576 0.5212148\n",
            "  0.69029716 0.03386333 0.6916626  0.05435749]\n",
            " [0.83735522 0.27446366 0.75115891 0.48998328 0.15175071 0.44280266\n",
            "  0.26833841 0.31251223 0.77783022 0.86907951]]\n",
            "Minimum Value: 0.010569961552098883\n",
            "Maximum Value: 0.9948731372817119\n"
          ]
        }
      ]
    },
    {
      "cell_type": "markdown",
      "source": [
        "6.Create a random vector of size 30 and find the mean value."
      ],
      "metadata": {
        "id": "KwNnl34fgcQG"
      }
    },
    {
      "cell_type": "code",
      "source": [
        "import numpy as np\n",
        "random_vector = np.random.rand(30)\n",
        "mean_value = random_vector.mean()\n",
        "print(random_vector)\n",
        "print(f\"Mean Value: {mean_value}\")\n"
      ],
      "metadata": {
        "colab": {
          "base_uri": "https://localhost:8080/"
        },
        "id": "Zd6vsusZf3P6",
        "outputId": "087eb347-a81d-42e2-e326-30c86d8afda9"
      },
      "execution_count": 11,
      "outputs": [
        {
          "output_type": "stream",
          "name": "stdout",
          "text": [
            "[0.13733364 0.74649437 0.90824643 0.72215421 0.26419158 0.9630318\n",
            " 0.44984949 0.07915363 0.33339886 0.19761914 0.89954667 0.87311768\n",
            " 0.63817548 0.84658782 0.48126842 0.86462595 0.04445047 0.67958363\n",
            " 0.35336144 0.46124391 0.10986272 0.94382525 0.61493964 0.89667191\n",
            " 0.9371302  0.89300919 0.59009086 0.0643891  0.26686234 0.29006495]\n",
            "Mean Value: 0.5516760263782163\n"
          ]
        }
      ]
    },
    {
      "cell_type": "code",
      "source": [],
      "metadata": {
        "id": "KCxeQJ-OgU9f"
      },
      "execution_count": null,
      "outputs": []
    }
  ]
}